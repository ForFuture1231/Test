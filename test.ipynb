{
 "metadata": {
  "language_info": {
   "codemirror_mode": {
    "name": "ipython",
    "version": 3
   },
   "file_extension": ".py",
   "mimetype": "text/x-python",
   "name": "python",
   "nbconvert_exporter": "python",
   "pygments_lexer": "ipython3",
   "version": "3.7.4-final"
  },
  "orig_nbformat": 2,
  "kernelspec": {
   "name": "python37464bitbasefd6c761b4ed049dcbb265376c8fe71bd",
   "display_name": "Python 3.7.4 64-bit ('base')",
   "language": "python"
  }
 },
 "nbformat": 4,
 "nbformat_minor": 2,
 "cells": [
  {
   "cell_type": "code",
   "execution_count": 9,
   "metadata": {},
   "outputs": [],
   "source": [
    "import pandas as pd \n",
    "import joblib\n",
    "import numpy as np\n",
    "import torch\n",
    "import torch.nn.functional as F \n",
    "import torch.nn as nn\n",
    "from sklearn.metrics import r2_score\n",
    "import time\n",
    "import transformers\n",
    "from torch.utils.data import Dataset"
   ]
  },
  {
   "cell_type": "code",
   "execution_count": 163,
   "metadata": {},
   "outputs": [],
   "source": [
    "x=torch.randn(1000,100)"
   ]
  },
  {
   "cell_type": "code",
   "execution_count": 164,
   "metadata": {},
   "outputs": [],
   "source": [
    "window=5\n",
    "n_input=100\n",
    "n_output=1"
   ]
  },
  {
   "cell_type": "code",
   "execution_count": 165,
   "metadata": {},
   "outputs": [],
   "source": [
    "class short_window_dataset(Dataset):\n",
    "    def __init__(self, _x, window):\n",
    "        self.window = window\n",
    "        self.n = _x.shape[0] - window + 1\n",
    "        self._x = _x\n",
    "\n",
    "    def __getitem__(self, idx):\n",
    "        idx += self.window\n",
    "        start = idx - self.window\n",
    "        end = idx\n",
    "        return self._x[start:end,:]\n",
    "\n",
    "    def __len__(self):\n",
    "        return self.n\n",
    "\n",
    "class long_window_dataset(Dataset):\n",
    "    def __init__(self, _x, window):\n",
    "        self.window = window\n",
    "        self.n = _x.shape[0] - window + 1\n",
    "        self._x = _x\n",
    "\n",
    "    def __getitem__(self, idx):\n",
    "        idx += self.window\n",
    "        end = idx\n",
    "        return self._x[:end, :]\n",
    "\n",
    "    def __len__(self):\n",
    "        return self.n"
   ]
  },
  {
   "cell_type": "code",
   "execution_count": 166,
   "metadata": {},
   "outputs": [],
   "source": [
    "datasetShort=short_window_dataset(x,window)\n",
    "data_iter_short=torch.utils.data.DataLoader(datasetShort,1,shuffle=False,num_workers=10,pin_memory=True)\n",
    "datasetLong=long_window_dataset(x,window)\n",
    "data_iter_Long=torch.utils.data.DataLoader(datasetLong,1,shuffle=False,num_workers=10,pin_memory=True)"
   ]
  },
  {
   "cell_type": "code",
   "execution_count": 167,
   "metadata": {},
   "outputs": [],
   "source": [
    "class RNNModel(nn.Module):\n",
    "    def __init__(self, n_input,n_output):\n",
    "        super(RNNModel,self).__init__()\n",
    "        self.rnn=nn.GRU(n_input,n_output,batch_first=True)\n",
    "    def forward(self,x):\n",
    "        out, _ =self.rnn(x,None)\n",
    "        out=out[:,-1,:]\n",
    "        return out"
   ]
  },
  {
   "cell_type": "code",
   "execution_count": 168,
   "metadata": {},
   "outputs": [],
   "source": [
    "device=\"cuda:2\"\n",
    "net=RNNModel(n_input,n_output).to(device)\n",
    "for param in net.parameters():\n",
    "    nn.init.normal_(param,mean=0,std=0.001)"
   ]
  },
  {
   "cell_type": "code",
   "execution_count": 169,
   "metadata": {},
   "outputs": [],
   "source": [
    "listLong=[]\n",
    "for x in data_iter_Long:\n",
    "    listLong.append(((net(x.to(device)).cpu().detach().numpy()[0,0])))"
   ]
  },
  {
   "cell_type": "code",
   "execution_count": 170,
   "metadata": {},
   "outputs": [],
   "source": [
    "listShort=[]\n",
    "for x in data_iter_short:\n",
    "    listShort.append(((net(x.to(device)).cpu().detach().numpy()[0,0])))"
   ]
  },
  {
   "cell_type": "code",
   "execution_count": 171,
   "metadata": {},
   "outputs": [
    {
     "output_type": "execute_result",
     "data": {
      "text/plain": [
       "array([[1.        , 0.99949864],\n",
       "       [0.99949864, 1.        ]])"
      ]
     },
     "metadata": {},
     "execution_count": 171
    }
   ],
   "source": [
    "np.corrcoef(listLong,listShort)"
   ]
  }
 ]
}